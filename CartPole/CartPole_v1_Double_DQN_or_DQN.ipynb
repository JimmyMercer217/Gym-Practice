{
  "nbformat": 4,
  "nbformat_minor": 0,
  "metadata": {
    "colab": {
      "provenance": []
    },
    "kernelspec": {
      "name": "python3",
      "display_name": "Python 3"
    },
    "language_info": {
      "name": "python"
    },
    "accelerator": "GPU",
    "gpuClass": "standard"
  },
  "cells": [
    {
      "cell_type": "code",
      "execution_count": 1,
      "metadata": {
        "colab": {
          "base_uri": "https://localhost:8080/"
        },
        "id": "WyMsbvnTKKj5",
        "outputId": "f638db64-2e44-4843-aa8c-52f8b8e1123a"
      },
      "outputs": [
        {
          "output_type": "stream",
          "name": "stdout",
          "text": [
            "Looking in indexes: https://pypi.org/simple, https://us-python.pkg.dev/colab-wheels/public/simple/\n",
            "Requirement already satisfied: pygame in /usr/local/lib/python3.9/dist-packages (2.3.0)\n",
            "Looking in indexes: https://pypi.org/simple, https://us-python.pkg.dev/colab-wheels/public/simple/\n",
            "Requirement already satisfied: gym==0.26.2 in /usr/local/lib/python3.9/dist-packages (0.26.2)\n",
            "Requirement already satisfied: cloudpickle>=1.2.0 in /usr/local/lib/python3.9/dist-packages (from gym==0.26.2) (2.2.1)\n",
            "Requirement already satisfied: importlib-metadata>=4.8.0 in /usr/local/lib/python3.9/dist-packages (from gym==0.26.2) (6.1.0)\n",
            "Requirement already satisfied: numpy>=1.18.0 in /usr/local/lib/python3.9/dist-packages (from gym==0.26.2) (1.22.4)\n",
            "Requirement already satisfied: gym-notices>=0.0.4 in /usr/local/lib/python3.9/dist-packages (from gym==0.26.2) (0.0.8)\n",
            "Requirement already satisfied: zipp>=0.5 in /usr/local/lib/python3.9/dist-packages (from importlib-metadata>=4.8.0->gym==0.26.2) (3.15.0)\n"
          ]
        }
      ],
      "source": [
        "!pip install pygame\n",
        "!pip install gym==0.26.2"
      ]
    },
    {
      "cell_type": "code",
      "source": [
        "import gym\n",
        "from gym import logger as gymlogger\n",
        "from gym.wrappers import RecordEpisodeStatistics\n",
        "gymlogger.set_level(40) #error only\n",
        "from torch import nn\n",
        "import torch\n",
        "from torch.nn import functional as F\n",
        "import numpy as np\n",
        "import pandas as pd\n",
        "import random\n",
        "import matplotlib\n",
        "import matplotlib.pyplot as plt\n",
        "%matplotlib inline\n",
        "import math\n",
        "import glob\n",
        "import io\n",
        "import base64\n",
        "from IPython.display import HTML\n",
        "from base64 import b64encode\n",
        "from collections import namedtuple, deque\n",
        "from itertools import count\n",
        "import torch.optim as optim\n",
        "\n",
        "from IPython import display as ipythondisplay\n",
        "import os\n",
        "os.environ[\"SDL_VIDEODRIVER\"] = \"dummy\""
      ],
      "metadata": {
        "id": "cRiJ3hQCK2_N"
      },
      "execution_count": 2,
      "outputs": []
    },
    {
      "cell_type": "code",
      "source": [
        "gym.__version__"
      ],
      "metadata": {
        "colab": {
          "base_uri": "https://localhost:8080/",
          "height": 35
        },
        "id": "jtZAso5SLHNM",
        "outputId": "14aed175-f4c6-4bfd-e73c-521f9ebd7518"
      },
      "execution_count": 3,
      "outputs": [
        {
          "output_type": "execute_result",
          "data": {
            "text/plain": [
              "'0.26.2'"
            ],
            "application/vnd.google.colaboratory.intrinsic+json": {
              "type": "string"
            }
          },
          "metadata": {},
          "execution_count": 3
        }
      ]
    },
    {
      "cell_type": "code",
      "source": [
        "env = gym.make('CartPole-v1', render_mode = \"rgb_array\")"
      ],
      "metadata": {
        "id": "sJEDmgqLKhzB"
      },
      "execution_count": 4,
      "outputs": []
    },
    {
      "cell_type": "code",
      "source": [
        "state, info = env.reset()\n",
        "env.action_space.sample()\n",
        "print(state)\n",
        "print(info)"
      ],
      "metadata": {
        "colab": {
          "base_uri": "https://localhost:8080/"
        },
        "id": "YhFoFbE-LNJs",
        "outputId": "3d34b9ff-d3e9-4b58-85e7-e4d211d0b687"
      },
      "execution_count": 5,
      "outputs": [
        {
          "output_type": "stream",
          "name": "stdout",
          "text": [
            "[-0.0378023   0.02566962  0.03038978 -0.040658  ]\n",
            "{}\n"
          ]
        }
      ]
    },
    {
      "cell_type": "code",
      "source": [
        "!nvidia-smi"
      ],
      "metadata": {
        "colab": {
          "base_uri": "https://localhost:8080/"
        },
        "id": "M3Hh0KufOhPG",
        "outputId": "b9ffdad7-63e8-4a5b-94f8-764bf317edac"
      },
      "execution_count": 6,
      "outputs": [
        {
          "output_type": "stream",
          "name": "stdout",
          "text": [
            "Wed Apr  5 05:23:33 2023       \n",
            "+-----------------------------------------------------------------------------+\n",
            "| NVIDIA-SMI 525.85.12    Driver Version: 525.85.12    CUDA Version: 12.0     |\n",
            "|-------------------------------+----------------------+----------------------+\n",
            "| GPU  Name        Persistence-M| Bus-Id        Disp.A | Volatile Uncorr. ECC |\n",
            "| Fan  Temp  Perf  Pwr:Usage/Cap|         Memory-Usage | GPU-Util  Compute M. |\n",
            "|                               |                      |               MIG M. |\n",
            "|===============================+======================+======================|\n",
            "|   0  Tesla T4            Off  | 00000000:00:04.0 Off |                    0 |\n",
            "| N/A   62C    P8    10W /  70W |      0MiB / 15360MiB |      0%      Default |\n",
            "|                               |                      |                  N/A |\n",
            "+-------------------------------+----------------------+----------------------+\n",
            "                                                                               \n",
            "+-----------------------------------------------------------------------------+\n",
            "| Processes:                                                                  |\n",
            "|  GPU   GI   CI        PID   Type   Process name                  GPU Memory |\n",
            "|        ID   ID                                                   Usage      |\n",
            "|=============================================================================|\n",
            "|  No running processes found                                                 |\n",
            "+-----------------------------------------------------------------------------+\n"
          ]
        }
      ]
    },
    {
      "cell_type": "code",
      "source": [
        "Transition = namedtuple('Transition',('state', 'action', 'next_state', 'reward'))\n",
        "\n",
        "\n",
        "class ReplayMemory(object):\n",
        "\n",
        "    def __init__(self, capacity):\n",
        "        self.memory = deque([], maxlen=capacity)\n",
        "\n",
        "    def push(self, *args):\n",
        "        \"\"\"Save a transition\"\"\"\n",
        "        self.memory.append(Transition(*args))\n",
        "\n",
        "    def sample(self, batch_size):\n",
        "        return random.sample(self.memory, batch_size)\n",
        "\n",
        "    def __len__(self):\n",
        "        return len(self.memory)"
      ],
      "metadata": {
        "id": "pgNQ2b5APEct"
      },
      "execution_count": 7,
      "outputs": []
    },
    {
      "cell_type": "code",
      "source": [
        "class DQN(nn.Module):\n",
        "\n",
        "    def __init__(self, n_observations, n_actions):\n",
        "        super(DQN, self).__init__()\n",
        "        self.layer1 = nn.Linear(n_observations, 128)\n",
        "        self.layer2 = nn.Linear(128, 128)\n",
        "        self.layer3 = nn.Linear(128, n_actions)\n",
        "\n",
        "    # Called with either one element to determine next action, or a batch\n",
        "    # during optimization. Returns tensor([[left0exp,right0exp]...]).\n",
        "    def forward(self, x):\n",
        "        x = F.relu(self.layer1(x))\n",
        "        x = F.relu(self.layer2(x))\n",
        "        return self.layer3(x)"
      ],
      "metadata": {
        "id": "qqCWJ9fQO3Pr"
      },
      "execution_count": 8,
      "outputs": []
    },
    {
      "cell_type": "code",
      "source": [
        "class Agent:\n",
        "  def __init__(self, env, BATCH_SIZE=128, GAMMA=0.99, EPS_START=0.9, EPS_END=0.05,\n",
        "               EPS_DECAY=1000, TAU=0.005, LR=1e-4, use_double_DQN=False, memory_size=10000):\n",
        "    self.env = env\n",
        "    self.BATCH_SIZE = BATCH_SIZE\n",
        "    self.GAMMA = GAMMA\n",
        "    self.EPS_START = EPS_START\n",
        "    self.EPS_END = EPS_END\n",
        "    self.EPS_DECAY = EPS_DECAY\n",
        "    self.TAU = TAU\n",
        "    self.use_double_DQN = use_double_DQN\n",
        "    self.n_actions = env.action_space.n\n",
        "    state, info = env.reset()\n",
        "    self.n_observations = len(state)\n",
        "    self.device = torch.device(\"cuda\" if torch.cuda.is_available() else \"cpu\")\n",
        "    self.policy_net = DQN(self.n_observations, self.n_actions).to(self.device)\n",
        "    self.target_net = DQN(self.n_observations, self.n_actions).to(self.device)\n",
        "    self.target_net.load_state_dict(self.policy_net.state_dict())\n",
        "    self.optimizer = optim.AdamW(self.policy_net.parameters(), lr=LR, amsgrad=True)\n",
        "    self.memory = ReplayMemory(memory_size)\n",
        "    self.steps_done = 0\n",
        "\n",
        "  def select_action(self, state, is_test):\n",
        "    sample = random.random()\n",
        "    eps_threshold = self.EPS_END + (self.EPS_START - self.EPS_END) * \\\n",
        "        math.exp(-1. * self.steps_done / self.EPS_DECAY)\n",
        "    self.steps_done += 1\n",
        "    if sample > eps_threshold or is_test==True:\n",
        "      with torch.no_grad():\n",
        "        # t.max(1) will return the largest column value of each row.\n",
        "        # second column on max result is index of where max element was\n",
        "        # found, so we pick action with the larger expected reward.\n",
        "        return self.policy_net(state).max(1)[1].view(1, 1)\n",
        "    else:\n",
        "      return torch.tensor([[self.env.action_space.sample()]], device=self.device, dtype=torch.long)\n",
        "  \n",
        "  def optimize_model(self):\n",
        "    if len(self.memory) < self.BATCH_SIZE:\n",
        "        return\n",
        "    transitions = self.memory.sample(self.BATCH_SIZE)\n",
        "    # Transpose the batch (see https://stackoverflow.com/a/19343/3343043 for\n",
        "    # detailed explanation). This converts batch-array of Transitions\n",
        "    # to Transition of batch-arrays.\n",
        "    batch = Transition(*zip(*transitions))\n",
        "    # Compute a mask of non-final states and concatenate the batch elements\n",
        "    # (a final state would've been the one after which simulation ended)\n",
        "    non_final_mask = torch.tensor(tuple(map(lambda s: s is not None,\n",
        "                                          batch.next_state)), device=self.device, dtype=torch.bool)\n",
        "    non_final_next_states = torch.cat([s for s in batch.next_state\n",
        "                                                if s is not None])\n",
        "    state_batch = torch.cat(batch.state)\n",
        "    action_batch = torch.cat(batch.action)\n",
        "    reward_batch = torch.cat(batch.reward)\n",
        "\n",
        "    # Compute Q(s_t, a) - the model computes Q(s_t), then we select the\n",
        "    # columns of actions taken. These are the actions which would've been taken\n",
        "    # for each batch state according to policy_net\n",
        "    # 1 is column, action_batch is index\n",
        "    # get the state_action_value\n",
        "    # https://zhuanlan.zhihu.com/p/352877584\n",
        "    state_action_values = self.policy_net(state_batch).gather(1, action_batch)\n",
        "    # Compute V(s_{t+1}) for all next states.\n",
        "    # Expected values of actions for non_final_next_states are computed based\n",
        "    # on the \"older\" target_net; selecting their best reward with max(1)[0].\n",
        "    # This is merged based on the mask, such that we'll have either the expected\n",
        "    # state value or 0 in case the state was final. 0 is value, 1 is indices\n",
        "    next_state_values = torch.zeros(self.BATCH_SIZE, device=self.device)\n",
        "    \n",
        "    #double-DQN\n",
        "    if(self.use_double_DQN):\n",
        "      with torch.no_grad():\n",
        "        non_final_next_state_action_batch = self.policy_net(non_final_next_states).max(1)[1].unsqueeze(1)\n",
        "        next_state_values[non_final_mask] = self.target_net(non_final_next_states).gather(1, non_final_next_state_action_batch).flatten()\n",
        "    else:\n",
        "    #DQN\n",
        "      with torch.no_grad():\n",
        "        next_state_values[non_final_mask] = self.target_net(non_final_next_states).max(1)[0]\n",
        "\n",
        "\n",
        "    # Compute the expected Q values\n",
        "    expected_state_action_values = (next_state_values * self.GAMMA) + reward_batch\n",
        "\n",
        "    # Compute Huber loss\n",
        "    criterion = nn.SmoothL1Loss()\n",
        "    loss = criterion(state_action_values, expected_state_action_values.unsqueeze(1))\n",
        "\n",
        "    # Optimize the model\n",
        "    self.optimizer.zero_grad()\n",
        "    loss.backward()\n",
        "    # In-place gradient clipping\n",
        "    torch.nn.utils.clip_grad_value_(self.policy_net.parameters(), 100)\n",
        "    self.optimizer.step()\n",
        "  \n",
        "  def update_network(self):\n",
        "    # Soft update of the target network's weights\n",
        "    # θ′ ← τ θ + (1 −τ )θ′\n",
        "    target_net_state_dict = self.target_net.state_dict()\n",
        "    policy_net_state_dict = self.policy_net.state_dict()\n",
        "    for key in policy_net_state_dict:\n",
        "      target_net_state_dict[key] = policy_net_state_dict[key]*self.TAU + target_net_state_dict[key]*(1-self.TAU)\n",
        "    self.target_net.load_state_dict(target_net_state_dict)\n"
      ],
      "metadata": {
        "id": "J2m1c4yPWBY2"
      },
      "execution_count": 9,
      "outputs": []
    },
    {
      "cell_type": "code",
      "source": [
        "def train_model(agent, env):\n",
        "  if torch.cuda.is_available():\n",
        "    num_episodes = 1000\n",
        "  else:\n",
        "    num_episodes = 50\n",
        "\n",
        "  reward_list = []\n",
        "\n",
        "  for i_episode in range(num_episodes):\n",
        "    # Initialize the environment and get it's state\n",
        "    state, info = env.reset()\n",
        "    state = torch.tensor(state, dtype=torch.float32, device=agent.device).unsqueeze(0)\n",
        "    temp_reward = 0\n",
        "    for t in count():\n",
        "      action = agent.select_action(state, False)\n",
        "      observation, reward, terminated, truncated, _ = env.step(action.item())\n",
        "      temp_reward += reward\n",
        "      reward = torch.tensor([reward], device=agent.device)\n",
        "      done = terminated or truncated\n",
        "\n",
        "      if terminated:\n",
        "        next_state = None\n",
        "      else:\n",
        "        next_state = torch.tensor(observation, dtype=torch.float32, device=agent.device).unsqueeze(0)\n",
        "\n",
        "      # Store the transition in memory\n",
        "      agent.memory.push(state, action, next_state, reward)\n",
        "\n",
        "      # Move to the next state\n",
        "      state = next_state\n",
        "\n",
        "      # Perform one step of the optimization (on the policy network)\n",
        "      agent.optimize_model()\n",
        "\n",
        "      agent.update_network()\n",
        "\n",
        "      if done:\n",
        "        reward_list.append(temp_reward)\n",
        "        if(i_episode+1)%10 == 0:\n",
        "          print(f'已经完成{i_episode+1}代')\n",
        "        break\n",
        "\n",
        "  print('Complete')\n",
        "  return reward_list"
      ],
      "metadata": {
        "id": "Ot9_ZRVPXJAE"
      },
      "execution_count": 36,
      "outputs": []
    },
    {
      "cell_type": "code",
      "source": [
        "dqn = Agent(env)\n",
        "DQN_rewrd = train_model(dqn, env)"
      ],
      "metadata": {
        "colab": {
          "base_uri": "https://localhost:8080/"
        },
        "id": "_QyqbuD5VcA6",
        "outputId": "653f15d8-8b73-491d-d65e-9f21691c7e2d"
      },
      "execution_count": 37,
      "outputs": [
        {
          "output_type": "stream",
          "name": "stdout",
          "text": [
            "已经完成10代\n",
            "已经完成20代\n",
            "已经完成30代\n",
            "已经完成40代\n",
            "已经完成50代\n",
            "已经完成60代\n",
            "已经完成70代\n",
            "已经完成80代\n",
            "已经完成90代\n",
            "已经完成100代\n",
            "已经完成110代\n",
            "已经完成120代\n",
            "已经完成130代\n",
            "已经完成140代\n",
            "已经完成150代\n",
            "已经完成160代\n",
            "已经完成170代\n",
            "已经完成180代\n",
            "已经完成190代\n",
            "已经完成200代\n",
            "已经完成210代\n",
            "已经完成220代\n",
            "已经完成230代\n",
            "已经完成240代\n",
            "已经完成250代\n",
            "已经完成260代\n",
            "已经完成270代\n",
            "已经完成280代\n",
            "已经完成290代\n",
            "已经完成300代\n",
            "已经完成310代\n",
            "已经完成320代\n",
            "已经完成330代\n",
            "已经完成340代\n",
            "已经完成350代\n",
            "已经完成360代\n",
            "已经完成370代\n",
            "已经完成380代\n",
            "已经完成390代\n",
            "已经完成400代\n",
            "已经完成410代\n",
            "已经完成420代\n",
            "已经完成430代\n",
            "已经完成440代\n",
            "已经完成450代\n",
            "已经完成460代\n",
            "已经完成470代\n",
            "已经完成480代\n",
            "已经完成490代\n",
            "已经完成500代\n",
            "已经完成510代\n",
            "已经完成520代\n",
            "已经完成530代\n",
            "已经完成540代\n",
            "已经完成550代\n",
            "已经完成560代\n",
            "已经完成570代\n",
            "已经完成580代\n",
            "已经完成590代\n",
            "已经完成600代\n",
            "已经完成610代\n",
            "已经完成620代\n",
            "已经完成630代\n",
            "已经完成640代\n",
            "已经完成650代\n",
            "已经完成660代\n",
            "已经完成670代\n",
            "已经完成680代\n",
            "已经完成690代\n",
            "已经完成700代\n",
            "已经完成710代\n",
            "已经完成720代\n",
            "已经完成730代\n",
            "已经完成740代\n",
            "已经完成750代\n",
            "已经完成760代\n",
            "已经完成770代\n",
            "已经完成780代\n",
            "已经完成790代\n",
            "已经完成800代\n",
            "已经完成810代\n",
            "已经完成820代\n",
            "已经完成830代\n",
            "已经完成840代\n",
            "已经完成850代\n",
            "已经完成860代\n",
            "已经完成870代\n",
            "已经完成880代\n",
            "已经完成890代\n",
            "已经完成900代\n",
            "已经完成910代\n",
            "已经完成920代\n",
            "已经完成930代\n",
            "已经完成940代\n",
            "已经完成950代\n",
            "已经完成960代\n",
            "已经完成970代\n",
            "已经完成980代\n",
            "已经完成990代\n",
            "已经完成1000代\n",
            "Complete\n"
          ]
        }
      ]
    },
    {
      "cell_type": "code",
      "source": [
        "def draw_pic(x, y, path):\n",
        "    plt.plot(x, y)\n",
        "    plt.xlabel(\"iteration\")\n",
        "    plt.ylabel(\"reward\")\n",
        "    plt.savefig(path)"
      ],
      "metadata": {
        "id": "zlcZ6cG91UZv"
      },
      "execution_count": 19,
      "outputs": []
    },
    {
      "cell_type": "code",
      "source": [
        "len(dqn.memory)"
      ],
      "metadata": {
        "colab": {
          "base_uri": "https://localhost:8080/"
        },
        "id": "Fya5OOFe6fgb",
        "outputId": "643e54bf-fa20-4f19-c4a6-46b74c633ac3"
      },
      "execution_count": 31,
      "outputs": [
        {
          "output_type": "execute_result",
          "data": {
            "text/plain": [
              "143"
            ]
          },
          "metadata": {},
          "execution_count": 31
        }
      ]
    },
    {
      "cell_type": "code",
      "source": [
        "draw_pic(range(len(DQN_rewrd)), DQN_rewrd, \"iteration-sumReward\")"
      ],
      "metadata": {
        "colab": {
          "base_uri": "https://localhost:8080/",
          "height": 449
        },
        "id": "gtneagvk10XG",
        "outputId": "4f95f481-56e1-435f-a61e-79bbc648d831"
      },
      "execution_count": 38,
      "outputs": [
        {
          "output_type": "display_data",
          "data": {
            "text/plain": [
              "<Figure size 640x480 with 1 Axes>"
            ],
            "image/png": "[encoded data removed]"
          },
          "metadata": {}
        }
      ]
    },
    {
      "cell_type": "code",
      "source": [
        "env.reset()\n",
        "double_dqn = Agent(env, use_double_DQN=True)\n",
        "double_DQN_reward = train_model(double_dqn, env)"
      ],
      "metadata": {
        "colab": {
          "base_uri": "https://localhost:8080/"
        },
        "id": "hutq6Ip70PO5",
        "outputId": "fde5b36b-1609-4e98-a658-dee02a81fc6b"
      },
      "execution_count": 40,
      "outputs": [
        {
          "output_type": "stream",
          "name": "stdout",
          "text": [
            "已经完成10代\n",
            "已经完成20代\n",
            "已经完成30代\n",
            "已经完成40代\n",
            "已经完成50代\n",
            "已经完成60代\n",
            "已经完成70代\n",
            "已经完成80代\n",
            "已经完成90代\n",
            "已经完成100代\n",
            "已经完成110代\n",
            "已经完成120代\n",
            "已经完成130代\n",
            "已经完成140代\n",
            "已经完成150代\n",
            "已经完成160代\n",
            "已经完成170代\n",
            "已经完成180代\n",
            "已经完成190代\n",
            "已经完成200代\n",
            "已经完成210代\n",
            "已经完成220代\n",
            "已经完成230代\n",
            "已经完成240代\n",
            "已经完成250代\n",
            "已经完成260代\n",
            "已经完成270代\n",
            "已经完成280代\n",
            "已经完成290代\n",
            "已经完成300代\n",
            "已经完成310代\n",
            "已经完成320代\n",
            "已经完成330代\n",
            "已经完成340代\n",
            "已经完成350代\n",
            "已经完成360代\n",
            "已经完成370代\n",
            "已经完成380代\n",
            "已经完成390代\n",
            "已经完成400代\n",
            "已经完成410代\n",
            "已经完成420代\n",
            "已经完成430代\n",
            "已经完成440代\n",
            "已经完成450代\n",
            "已经完成460代\n",
            "已经完成470代\n",
            "已经完成480代\n",
            "已经完成490代\n",
            "已经完成500代\n",
            "已经完成510代\n",
            "已经完成520代\n",
            "已经完成530代\n",
            "已经完成540代\n",
            "已经完成550代\n",
            "已经完成560代\n",
            "已经完成570代\n",
            "已经完成580代\n",
            "已经完成590代\n",
            "已经完成600代\n",
            "已经完成610代\n",
            "已经完成620代\n",
            "已经完成630代\n",
            "已经完成640代\n",
            "已经完成650代\n",
            "已经完成660代\n",
            "已经完成670代\n",
            "已经完成680代\n",
            "已经完成690代\n",
            "已经完成700代\n",
            "已经完成710代\n",
            "已经完成720代\n",
            "已经完成730代\n",
            "已经完成740代\n",
            "已经完成750代\n",
            "已经完成760代\n",
            "已经完成770代\n",
            "已经完成780代\n",
            "已经完成790代\n",
            "已经完成800代\n",
            "已经完成810代\n",
            "已经完成820代\n",
            "已经完成830代\n",
            "已经完成840代\n",
            "已经完成850代\n",
            "已经完成860代\n",
            "已经完成870代\n",
            "已经完成880代\n",
            "已经完成890代\n",
            "已经完成900代\n",
            "已经完成910代\n",
            "已经完成920代\n",
            "已经完成930代\n",
            "已经完成940代\n",
            "已经完成950代\n",
            "已经完成960代\n",
            "已经完成970代\n",
            "已经完成980代\n",
            "已经完成990代\n",
            "已经完成1000代\n",
            "Complete\n"
          ]
        }
      ]
    },
    {
      "cell_type": "code",
      "source": [
        "draw_pic(range(len(double_DQN_reward)), double_DQN_reward, \"iteration-sumReward\")"
      ],
      "metadata": {
        "id": "9w0tfH4ddqmD",
        "colab": {
          "base_uri": "https://localhost:8080/",
          "height": 449
        },
        "outputId": "a8ccf6dc-7d34-48e6-b180-32284cf6acff"
      },
      "execution_count": 41,
      "outputs": [
        {
          "output_type": "display_data",
          "data": {
            "text/plain": [
              "<Figure size 640x480 with 1 Axes>"
            ],
            "image/png": "[encoded data removed]"
          },
          "metadata": {}
        }
      ]
    },
    {
      "cell_type": "code",
      "source": [
        "#test\n",
        "test_reward_list = []\n",
        "for i in range(10):\n",
        "    state, info = env.reset()\n",
        "    state = torch.tensor(state, dtype=torch.float32, device=double_dqn.device).unsqueeze(0)\n",
        "    temp_reward = 0\n",
        "    for t in count():\n",
        "        action = double_dqn.select_action(state, True)\n",
        "        observation, reward, terminated, truncated, _ = env.step(action.item())\n",
        "        temp_reward += reward\n",
        "        done = terminated or truncated\n",
        "        state = torch.tensor(observation, dtype=torch.float32, device=double_dqn.device).unsqueeze(0)\n",
        "        if done:\n",
        "            test_reward_list.append(temp_reward)\n",
        "            break\n",
        "draw_pic(range(len(test_reward_list)), test_reward_list, \"iteration-sumReward-test\")"
      ],
      "metadata": {
        "colab": {
          "base_uri": "https://localhost:8080/",
          "height": 449
        },
        "id": "QHpakeMGGlgc",
        "outputId": "76a6d3f3-efe0-493d-d524-d38370e2a606"
      },
      "execution_count": 42,
      "outputs": [
        {
          "output_type": "display_data",
          "data": {
            "text/plain": [
              "<Figure size 640x480 with 1 Axes>"
            ],
            "image/png": "[encoded data removed]"
          },
          "metadata": {}
        }
      ]
    }
  ]
}