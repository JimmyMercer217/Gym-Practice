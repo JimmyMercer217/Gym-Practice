{
  "nbformat": 4,
  "nbformat_minor": 0,
  "metadata": {
    "colab": {
      "provenance": []
    },
    "kernelspec": {
      "name": "python3",
      "display_name": "Python 3"
    },
    "language_info": {
      "name": "python"
    }
  },
  "cells": [
    {
      "cell_type": "code",
      "source": [
        "import gym\n",
        "from gym import logger as gymlogger\n",
        "from gym.wrappers import RecordEpisodeStatistics\n",
        "gymlogger.set_level(40) #error only\n",
        "from torch import nn\n",
        "import torch\n",
        "from torch.nn import functional as F\n",
        "import numpy as np\n",
        "import pandas as pd\n",
        "import random\n",
        "import matplotlib\n",
        "import matplotlib.pyplot as plt\n",
        "%matplotlib inline\n",
        "import math\n",
        "import glob\n",
        "import io\n",
        "import base64\n",
        "from IPython.display import HTML\n",
        "from base64 import b64encode\n",
        "from collections import namedtuple, deque\n",
        "from itertools import count\n",
        "import torch.optim as optim\n",
        "\n",
        "from IPython import display as ipythondisplay\n",
        "import os\n",
        "os.environ[\"SDL_VIDEODRIVER\"] = \"dummy\""
      ],
      "metadata": {
        "id": "7JvPNr32172e"
      },
      "execution_count": 1,
      "outputs": []
    },
    {
      "cell_type": "code",
      "source": [
        "class duelingNetwork(nn.Module):\n",
        "\n",
        "  def __init__(self, n_observations, n_actions):\n",
        "    super(duelingNetwork, self).__init__()\n",
        "    self.layer1 = nn.Linear(n_observations, 10)\n",
        "    self.layer2 = nn.Linear(n_observations, 10)\n",
        "    self.VLayer = nn.Linear(10, 1)\n",
        "    self.ALayer = nn.Linear(10, n_actions)\n",
        "\n",
        "  def forward(self, x, user_mean=True):\n",
        "    V_x = self.layer1(x)\n",
        "    A_x = self.layer2(x)\n",
        "    V=self.VLayer(V_x)\n",
        "    A=self.ALayer(A_x)\n",
        "    if user_mean:\n",
        "      A=A-torch.mean(A, 1 ,keepdim=True)[0]\n",
        "    else:\n",
        "      A=A-torch.max(A,1,keepdim=True)[0]\n",
        "    return (V,A)"
      ],
      "metadata": {
        "id": "a8oUqlAH5QD8"
      },
      "execution_count": 2,
      "outputs": []
    },
    {
      "cell_type": "code",
      "execution_count": 3,
      "metadata": {
        "id": "K6LzVIlAkdxQ"
      },
      "outputs": [],
      "source": [
        "def get_V_and_A(iteration=150, user_mean=True):\n",
        "  state=torch.tensor(np.random.random([1,10]), dtype=torch.float32)\n",
        "  cost=nn.MSELoss()\n",
        "  Q_target=torch.tensor([3.5, 4.2, 7.6]).unsqueeze(0)\n",
        "  dueling_network=duelingNetwork(10, 3)\n",
        "  opt=optim.Adam(dueling_network.parameters(), lr=1e-2)\n",
        "  for i in range(iteration):\n",
        "    V,A=dueling_network(state, user_mean)\n",
        "    y=V+A\n",
        "    loss=cost(y,Q_target)\n",
        "    opt.zero_grad()\n",
        "    loss.backward()\n",
        "    opt.step()\n",
        "  print(f'loss:{loss}')\n",
        "  print(f'Q_target:{Q_target}')\n",
        "  print(f'y:{y}')\n",
        "  print(f'V:{V}')\n",
        "  print(f'A:{A}')"
      ]
    },
    {
      "cell_type": "code",
      "source": [
        "get_V_and_A()\n"
      ],
      "metadata": {
        "colab": {
          "base_uri": "https://localhost:8080/"
        },
        "id": "5u8hWsZq3Hbd",
        "outputId": "33b4ee1c-64b2-4cd8-82ec-5f4e57ce46e9"
      },
      "execution_count": 4,
      "outputs": [
        {
          "output_type": "stream",
          "name": "stdout",
          "text": [
            "loss:7.5516613833315205e-06\n",
            "Q_target:tensor([[3.5000, 4.2000, 7.6000]])\n",
            "y:tensor([[3.4965, 4.1974, 7.5981]], grad_fn=<AddBackward0>)\n",
            "V:tensor([[5.0973]], grad_fn=<AddmmBackward0>)\n",
            "A:tensor([[-1.6008, -0.9000,  2.5008]], grad_fn=<SubBackward0>)\n"
          ]
        }
      ]
    },
    {
      "cell_type": "code",
      "source": [
        "get_V_and_A(user_mean=False)"
      ],
      "metadata": {
        "colab": {
          "base_uri": "https://localhost:8080/"
        },
        "id": "z3Mztgjs_N0I",
        "outputId": "fcaf1b81-9460-40d3-95d9-b5061c864039"
      },
      "execution_count": 5,
      "outputs": [
        {
          "output_type": "stream",
          "name": "stdout",
          "text": [
            "loss:4.762131720781326e-05\n",
            "Q_target:tensor([[3.5000, 4.2000, 7.6000]])\n",
            "y:tensor([[3.4991, 4.1952, 7.6109]], grad_fn=<AddBackward0>)\n",
            "V:tensor([[7.6109]], grad_fn=<AddmmBackward0>)\n",
            "A:tensor([[-4.1118, -3.4157,  0.0000]], grad_fn=<SubBackward0>)\n"
          ]
        }
      ]
    },
    {
      "cell_type": "code",
      "source": [
        "get_V_and_A(iteration=1500,user_mean=False)"
      ],
      "metadata": {
        "colab": {
          "base_uri": "https://localhost:8080/"
        },
        "id": "ptBMYXwy3kyo",
        "outputId": "37c50a86-730d-4f7c-d732-e2c842d8e438"
      },
      "execution_count": 6,
      "outputs": [
        {
          "output_type": "stream",
          "name": "stdout",
          "text": [
            "loss:0.0\n",
            "Q_target:tensor([[3.5000, 4.2000, 7.6000]])\n",
            "y:tensor([[3.5000, 4.2000, 7.6000]], grad_fn=<AddBackward0>)\n",
            "V:tensor([[7.6000]], grad_fn=<AddmmBackward0>)\n",
            "A:tensor([[-4.1000, -3.4000,  0.0000]], grad_fn=<SubBackward0>)\n"
          ]
        }
      ]
    }
  ]
}